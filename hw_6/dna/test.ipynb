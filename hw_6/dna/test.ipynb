{
 "cells": [
  {
   "cell_type": "code",
   "execution_count": 34,
   "metadata": {},
   "outputs": [],
   "source": [
    "import csv\n",
    "import sys"
   ]
  },
  {
   "cell_type": "code",
   "execution_count": 35,
   "metadata": {},
   "outputs": [],
   "source": [
    "def longest_match(sequence, subsequence):\n",
    "    \"\"\"Returns length of longest run of subsequence in sequence.\"\"\"\n",
    "\n",
    "    # Initialize variables\n",
    "    longest_run = 0\n",
    "    subsequence_length = len(subsequence)\n",
    "    sequence_length = len(sequence)\n",
    "\n",
    "    # Check each character in sequence for most consecutive runs of subsequence\n",
    "    for i in range(sequence_length):\n",
    "\n",
    "        # Initialize count of consecutive runs\n",
    "        count = 0\n",
    "\n",
    "        # Check for a subsequence match in a \"substring\" (a subset of characters) within sequence\n",
    "        # If a match, move substring to next potential match in sequence\n",
    "        # Continue moving substring and checking for matches until out of consecutive matches\n",
    "        while True:\n",
    "\n",
    "            # Adjust substring start and end\n",
    "            start = i + count * subsequence_length\n",
    "            end = start + subsequence_length\n",
    "\n",
    "            # If there is a match in the substring\n",
    "            if sequence[start:end] == subsequence:\n",
    "                count += 1\n",
    "            \n",
    "            # If there is no match in the substring\n",
    "            else:\n",
    "                break\n",
    "        \n",
    "        # Update most consecutive matches found\n",
    "        longest_run = max(longest_run, count)\n",
    "\n",
    "    # After checking for runs at each character in seqeuence, return longest run found\n",
    "    return longest_run"
   ]
  },
  {
   "cell_type": "code",
   "execution_count": 36,
   "metadata": {},
   "outputs": [],
   "source": [
    "f = open(\"./databases/small.csv\", \"r\")\n",
    "reader = csv.DictReader(f)\n",
    "header = reader.fieldnames[1:]"
   ]
  },
  {
   "cell_type": "code",
   "execution_count": 37,
   "metadata": {},
   "outputs": [],
   "source": [
    "data = [row for row in reader]\n"
   ]
  },
  {
   "cell_type": "code",
   "execution_count": 38,
   "metadata": {},
   "outputs": [
    {
     "data": {
      "text/plain": [
       "[OrderedDict([('name', 'Alice'),\n",
       "              ('AGATC', '2'),\n",
       "              ('AATG', '8'),\n",
       "              ('TATC', '3')]),\n",
       " OrderedDict([('name', 'Bob'), ('AGATC', '4'), ('AATG', '1'), ('TATC', '5')]),\n",
       " OrderedDict([('name', 'Charlie'),\n",
       "              ('AGATC', '3'),\n",
       "              ('AATG', '2'),\n",
       "              ('TATC', '5')])]"
      ]
     },
     "execution_count": 38,
     "metadata": {},
     "output_type": "execute_result"
    }
   ],
   "source": [
    "f.close()\n",
    "data"
   ]
  },
  {
   "cell_type": "code",
   "execution_count": 39,
   "metadata": {},
   "outputs": [
    {
     "data": {
      "text/plain": [
       "['AGATC', 'AATG', 'TATC']"
      ]
     },
     "execution_count": 39,
     "metadata": {},
     "output_type": "execute_result"
    }
   ],
   "source": [
    "header"
   ]
  },
  {
   "cell_type": "code",
   "execution_count": 40,
   "metadata": {},
   "outputs": [
    {
     "name": "stdout",
     "output_type": "stream",
     "text": [
      "AAGGTAAGTTTAGAATATAAAAGGTGAGTTAAATAGAATAGGTTAAAATTAAAGGAGATCAGATCAGATCAGATCTATCTATCTATCTATCTATCAGAAAAGAGTAAATAGTTAAAGAGTAAGATATTGAATTAATGGAAAATATTGTTGGGGAAAGGAGGGATAGAAGG\n"
     ]
    }
   ],
   "source": [
    "seq = open(\"sequences/1.txt\", \"r\")\n",
    "sequence = seq.read()[:-1]\n",
    "seq.close()\n",
    "print(sequence)"
   ]
  },
  {
   "cell_type": "code",
   "execution_count": 41,
   "metadata": {},
   "outputs": [],
   "source": [
    "seq_profile = dict()\n",
    "for STRs in header:\n",
    "    longest_run = longest_match(sequence, STRs)\n",
    "    seq_profile[STRs] = longest_run"
   ]
  },
  {
   "cell_type": "code",
   "execution_count": 49,
   "metadata": {},
   "outputs": [
    {
     "name": "stdout",
     "output_type": "stream",
     "text": [
      "Bob\n"
     ]
    }
   ],
   "source": [
    "for row in data:\n",
    "    counter = 0\n",
    "    for STRs in header:\n",
    "        # print(row[STRs])\n",
    "        # print(seq_profile[STRs])\n",
    "        if int(row[STRs]) == seq_profile[STRs]:\n",
    "            counter += 1\n",
    "    \n",
    "    # print(counter)\n",
    "    # print(len(header))\n",
    "    if counter == len(header):\n",
    "        print(row['name'])\n",
    "        "
   ]
  },
  {
   "cell_type": "code",
   "execution_count": 46,
   "metadata": {},
   "outputs": [
    {
     "name": "stdout",
     "output_type": "stream",
     "text": [
      "OrderedDict([('name', 'Alice'), ('AGATC', '2'), ('AATG', '8'), ('TATC', '3')])\n",
      "OrderedDict([('name', 'Bob'), ('AGATC', '4'), ('AATG', '1'), ('TATC', '5')])\n",
      "OrderedDict([('name', 'Charlie'), ('AGATC', '3'), ('AATG', '2'), ('TATC', '5')])\n"
     ]
    }
   ],
   "source": [
    "for i in data:\n",
    "    print(i)"
   ]
  },
  {
   "cell_type": "code",
   "execution_count": null,
   "metadata": {},
   "outputs": [],
   "source": [
    "for row in reader:\n",
    "    print(row['AGATC'])"
   ]
  }
 ],
 "metadata": {
  "kernelspec": {
   "display_name": "Python 3.7.6 64-bit",
   "language": "python",
   "name": "python3"
  },
  "language_info": {
   "codemirror_mode": {
    "name": "ipython",
    "version": 3
   },
   "file_extension": ".py",
   "mimetype": "text/x-python",
   "name": "python",
   "nbconvert_exporter": "python",
   "pygments_lexer": "ipython3",
   "version": "3.7.6"
  },
  "orig_nbformat": 4,
  "vscode": {
   "interpreter": {
    "hash": "219da6a50c866249bdfc07e8ee29701a3e2568a26ff21cc98a0eb284d1611ca6"
   }
  }
 },
 "nbformat": 4,
 "nbformat_minor": 2
}
