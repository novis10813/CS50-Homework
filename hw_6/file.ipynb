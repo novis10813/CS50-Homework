{
 "cells": [
  {
   "cell_type": "code",
   "execution_count": 1,
   "metadata": {},
   "outputs": [
    {
     "name": "stderr",
     "output_type": "stream",
     "text": [
      "--2022-07-27 09:34:36--  https://cdn.cs50.net/2021/fall/psets/6/sentimental-readability.zip\n",
      "Resolving cdn.cs50.net (cdn.cs50.net)... 13.35.24.58, 13.35.24.32, 13.35.24.79, ...\n",
      "Connecting to cdn.cs50.net (cdn.cs50.net)|13.35.24.58|:443... connected.\n",
      "HTTP request sent, awaiting response... 200 OK\n",
      "Length: 408 [application/zip]\n",
      "Saving to: 'sentimental-readability.zip'\n",
      "\n",
      "     0K                                                       100% 12.6M=0s\n",
      "\n",
      "2022-07-27 09:34:37 (12.6 MB/s) - 'sentimental-readability.zip' saved [408/408]\n",
      "\n"
     ]
    }
   ],
   "source": [
    "!wget https://cdn.cs50.net/2021/fall/psets/6/sentimental-readability.zip"
   ]
  },
  {
   "cell_type": "code",
   "execution_count": 2,
   "metadata": {},
   "outputs": [
    {
     "name": "stderr",
     "output_type": "stream",
     "text": [
      "--2022-07-27 09:48:30--  https://cdn.cs50.net/2021/fall/psets/6/dna.zip\n",
      "Resolving cdn.cs50.net (cdn.cs50.net)... 13.35.24.73, 13.35.24.79, 13.35.24.58, ...\n",
      "Connecting to cdn.cs50.net (cdn.cs50.net)|13.35.24.73|:443... connected.\n",
      "HTTP request sent, awaiting response... 200 OK\n",
      "Length: 32908 (32K) [application/zip]\n",
      "Saving to: 'dna.zip'\n",
      "\n",
      "     0K .......... .......... .......... ..                   100% 7.11M=0.004s\n",
      "\n",
      "2022-07-27 09:48:30 (7.11 MB/s) - 'dna.zip' saved [32908/32908]\n",
      "\n"
     ]
    }
   ],
   "source": [
    "!wget https://cdn.cs50.net/2021/fall/psets/6/dna.zip"
   ]
  },
  {
   "cell_type": "code",
   "execution_count": null,
   "metadata": {},
   "outputs": [],
   "source": []
  }
 ],
 "metadata": {
  "kernelspec": {
   "display_name": "Python 3.7.6 64-bit",
   "language": "python",
   "name": "python3"
  },
  "language_info": {
   "codemirror_mode": {
    "name": "ipython",
    "version": 3
   },
   "file_extension": ".py",
   "mimetype": "text/x-python",
   "name": "python",
   "nbconvert_exporter": "python",
   "pygments_lexer": "ipython3",
   "version": "3.7.6"
  },
  "orig_nbformat": 4,
  "vscode": {
   "interpreter": {
    "hash": "219da6a50c866249bdfc07e8ee29701a3e2568a26ff21cc98a0eb284d1611ca6"
   }
  }
 },
 "nbformat": 4,
 "nbformat_minor": 2
}
